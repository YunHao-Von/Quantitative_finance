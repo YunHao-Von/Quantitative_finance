{
 "cells": [
  {
   "cell_type": "code",
   "execution_count": 33,
   "metadata": {
    "collapsed": true
   },
   "outputs": [],
   "source": [
    "import pandas as pd\n",
    "import datetime\n",
    "year=['2017','2018','2019','2020']#设置年份\n",
    "m=['-01','-02','-03','-04','-05','-06','-07','-08','-09','-10','-11','-12']#设置月份\n",
    "df_indicator=pd.read_csv('daily_basic.csv')\n",
    "df_indicator_filled=df_indicator.fillna(0)#填充空缺\n",
    "df_indicator_filled['trade_date']=pd.to_datetime(df_indicator_filled['trade_date'],format='%Y%m%d')#设置时间戳\n",
    "df_indicator_filled=df_indicator_filled.set_index('trade_date')#设置index为时间序列\n",
    "df_indicator_filled_list={}#字典保存按年份和月份分割的Dataframe"
   ]
  },
  {
   "cell_type": "code",
   "execution_count": 34,
   "outputs": [],
   "source": [
    "for i in year:\n",
    "    month_dict={}\n",
    "    for j in m:\n",
    "        month_dict[j]=df_indicator_filled.loc[i+j,:]\n",
    "    df_indicator_filled_list[i]=month_dict"
   ],
   "metadata": {
    "collapsed": false,
    "pycharm": {
     "name": "#%%\n"
    }
   }
  },
  {
   "cell_type": "code",
   "execution_count": 35,
   "outputs": [
    {
     "name": "stdout",
     "output_type": "stream",
     "text": [
      "Index(['000503.SZ', '000820.SZ', '300122.SZ', '600233.SH', '002120.SZ',\n",
      "       '002625.SZ', '600161.SH', '002522.SZ', '000025.SZ', '300136.SZ',\n",
      "       '600435.SH', '600764.SH', '600876.SH', '600570.SH', '002468.SZ',\n",
      "       '002346.SZ', '600698.SH', '600610.SH', '300601.SZ', '002797.SZ',\n",
      "       '000813.SZ', '002127.SZ', '002095.SZ', '600679.SH', '000923.SZ',\n",
      "       '000068.SZ', '000697.SZ', '300308.SZ', '300482.SZ', '002044.SZ',\n",
      "       '002451.SZ', '002252.SZ', '002180.SZ', '002569.SZ', '002387.SZ',\n",
      "       '300101.SZ', '603881.SH', '000831.SZ', '601020.SH', '300085.SZ',\n",
      "       '300506.SZ', '000766.SZ', '600760.SH', '603986.SH', '002694.SZ',\n",
      "       '601069.SH', '002622.SZ', '002515.SZ', '300191.SZ', '002530.SZ',\n",
      "       '300142.SZ', '300558.SZ', '603058.SH', '002676.SZ', '300529.SZ',\n",
      "       '600393.SH', '002575.SZ', '600771.SH', '300474.SZ', '600158.SH',\n",
      "       '600779.SH', '603859.SH', '300496.SZ', '300618.SZ', '300302.SZ',\n",
      "       '600436.SH', '000806.SZ', '300628.SZ', '600110.SH', '603718.SH',\n",
      "       '000815.SZ', '600111.SH', '300450.SZ', '300466.SZ', '000839.SZ',\n",
      "       '002192.SZ', '002509.SZ', '002602.SZ', '600715.SH', '002287.SZ',\n",
      "       '601882.SH', '603799.SH', '002230.SZ', '000403.SZ', '000738.SZ',\n",
      "       '000017.SZ', '002460.SZ', '002030.SZ', '002773.SZ', '300368.SZ',\n",
      "       '603888.SH', '600053.SH', '002147.SZ', '603000.SH', '600276.SH',\n",
      "       '002366.SZ', '002213.SZ', '300024.SZ', '002782.SZ', '300276.SZ'],\n",
      "      dtype='object', name='ts_code')\n"
     ]
    }
   ],
   "source": [
    "def get__score(df_basic_filled_list,d,t):#对单一指标进行排序\n",
    "    df=df_indicator_filled_list\n",
    "    df=df_indicator_filled_list[t[0:4]][t[4:]]\n",
    "    df=df.loc[:,['ts_code',d]]\n",
    "    dg=df.groupby('ts_code')\n",
    "    dg=dg.mean()\n",
    "    dg=dg.sort_values(d,ascending=False)\n",
    "    rank=dg.rank()\n",
    "    return rank\n",
    "def unit_socre(df,ind,t):#联合单一指标获得联合指标排序\n",
    "    tmp=get__score(df,ind[0],t)\n",
    "    rank=tmp\n",
    "    for i in range(1,len(ind)):\n",
    "        tmp=get__score(df,ind[i],t)\n",
    "        rank = pd.merge(rank,tmp,how='inner',on='ts_code')\n",
    "    rank['score']=rank.apply(lambda x:x.sum(),axis=1)\n",
    "    return rank\n",
    "daily=['pe','pb','ps','total_mv']\n",
    "score_indicator=unit_socre(df_indicator_filled_list,daily,'2017-04')#获得指定指标序列和指定时间的打分\n",
    "select=score_indicator.sort_values(by='score',ascending=False).head(100)\n",
    "print(select.index)"
   ],
   "metadata": {
    "collapsed": false,
    "pycharm": {
     "name": "#%%\n"
    }
   }
  },
  {
   "cell_type": "code",
   "execution_count": 36,
   "outputs": [],
   "source": [
    "l=select.index.to_list()\n",
    "data=pd.read_csv(\"company_label.csv\")\n",
    "import re\n",
    "data[\"code\"]=data[\"sec_code\"].apply(lambda x:re.findall(r\"(.+)_.+_.+\",x)[0]+\".\"+re.findall(r\".+_(.+)_.+\",x)[0])"
   ],
   "metadata": {
    "collapsed": false,
    "pycharm": {
     "name": "#%%\n"
    }
   }
  },
  {
   "cell_type": "code",
   "execution_count": 37,
   "outputs": [
    {
     "name": "stderr",
     "output_type": "stream",
     "text": [
      "<ipython-input-37-7a7ae9fd029e>:2: SettingWithCopyWarning: \n",
      "A value is trying to be set on a copy of a slice from a DataFrame.\n",
      "Try using .loc[row_indexer,col_indexer] = value instead\n",
      "\n",
      "See the caveats in the documentation: https://pandas.pydata.org/pandas-docs/stable/user_guide/indexing.html#returning-a-view-versus-a-copy\n",
      "  data1[\"time\"]=pd.to_datetime(data1[\"news_time\"])\n"
     ]
    }
   ],
   "source": [
    "data1=data[data[\"code\"].isin(l)]\n",
    "data1[\"time\"]=pd.to_datetime(data1[\"news_time\"])\n",
    "# data1.to_csv(\"data1.csv\",index=False)"
   ],
   "metadata": {
    "collapsed": false,
    "pycharm": {
     "name": "#%%\n"
    }
   }
  },
  {
   "cell_type": "code",
   "execution_count": 38,
   "outputs": [],
   "source": [
    "t=pd.DataFrame(columns=[\"pos\",\"neg\",\"neu\",\"公司\",\"code\"])\n",
    "for i in data1[\"code\"].unique():\n",
    "    t1=data1[data1[\"code\"]==i]\n",
    "    t1.index=data1[data1[\"code\"]==i][\"time\"]\n",
    "    t2=t1.resample(\"1d\")[\"pos\",\"neg\",\"neu\"].mean()\n",
    "    t2[\"code\"]=i\n",
    "    t2[\"公司\"]=data1[data1[\"code\"]==i].company_name.unique()[0]\n",
    "    t=pd.concat([t,t2])\n",
    "t.fillna(0,inplace=True)"
   ],
   "metadata": {
    "collapsed": false,
    "pycharm": {
     "name": "#%%\n"
    }
   }
  },
  {
   "cell_type": "code",
   "execution_count": 39,
   "outputs": [],
   "source": [
    "import numpy as np\n",
    "df=pd.read_csv(\"event_label.csv\")\n",
    "event=df.merge(data1,on=\"news_id\",how=\"right\")"
   ],
   "metadata": {
    "collapsed": false,
    "pycharm": {
     "name": "#%%\n"
    }
   }
  },
  {
   "cell_type": "code",
   "execution_count": 40,
   "outputs": [],
   "source": [
    "for i in event[\"event_name\"].unique()[1:]:\n",
    "    event[i]=event[\"event_name\"].apply(lambda x :1 if x==i else 0)\n",
    "    event[i]=event[i].astype(np.uint8)"
   ],
   "metadata": {
    "collapsed": false,
    "pycharm": {
     "name": "#%%\n"
    }
   }
  },
  {
   "cell_type": "code",
   "execution_count": 41,
   "outputs": [
    {
     "ename": "TypeError",
     "evalue": "'numpy.ndarray' object is not callable",
     "output_type": "error",
     "traceback": [
      "\u001B[1;31m---------------------------------------------------------------------------\u001B[0m",
      "\u001B[1;31mTypeError\u001B[0m                                 Traceback (most recent call last)",
      "\u001B[1;32m<ipython-input-41-67ac3070348d>\u001B[0m in \u001B[0;36m<module>\u001B[1;34m\u001B[0m\n\u001B[1;32m----> 1\u001B[1;33m \u001B[0mls\u001B[0m\u001B[1;33m=\u001B[0m\u001B[0mlist\u001B[0m\u001B[1;33m(\u001B[0m\u001B[0mevent\u001B[0m\u001B[1;33m.\u001B[0m\u001B[0mcolumns\u001B[0m\u001B[1;33m[\u001B[0m\u001B[1;36m13\u001B[0m\u001B[1;33m:\u001B[0m\u001B[1;33m]\u001B[0m\u001B[1;33m)\u001B[0m\u001B[1;33m\u001B[0m\u001B[1;33m\u001B[0m\u001B[0m\n\u001B[0m\u001B[0;32m      2\u001B[0m \u001B[0mls\u001B[0m\u001B[1;33m.\u001B[0m\u001B[0mappend\u001B[0m\u001B[1;33m(\u001B[0m\u001B[1;34m\"公司\"\u001B[0m\u001B[1;33m)\u001B[0m\u001B[1;33m\u001B[0m\u001B[1;33m\u001B[0m\u001B[0m\n\u001B[0;32m      3\u001B[0m \u001B[0mls\u001B[0m\u001B[1;33m.\u001B[0m\u001B[0mappend\u001B[0m\u001B[1;33m(\u001B[0m\u001B[1;34m\"code\"\u001B[0m\u001B[1;33m)\u001B[0m\u001B[1;33m\u001B[0m\u001B[1;33m\u001B[0m\u001B[0m\n\u001B[0;32m      4\u001B[0m \u001B[0mlen\u001B[0m\u001B[1;33m(\u001B[0m\u001B[0mevent\u001B[0m\u001B[1;33m.\u001B[0m\u001B[0mcode\u001B[0m\u001B[1;33m.\u001B[0m\u001B[0munique\u001B[0m\u001B[1;33m(\u001B[0m\u001B[1;33m)\u001B[0m\u001B[1;33m)\u001B[0m\u001B[1;33m\u001B[0m\u001B[1;33m\u001B[0m\u001B[0m\n",
      "\u001B[1;31mTypeError\u001B[0m: 'numpy.ndarray' object is not callable"
     ]
    }
   ],
   "source": [
    "ls=list(event.columns[13:])\n",
    "ls.append(\"公司\")\n",
    "ls.append(\"code\")\n",
    "len(event.code.unique())"
   ],
   "metadata": {
    "collapsed": false,
    "pycharm": {
     "name": "#%%\n"
    }
   }
  },
  {
   "cell_type": "code",
   "execution_count": null,
   "outputs": [],
   "source": [
    "T=pd.DataFrame(columns=ls)\n",
    "for i in event[\"code\"].unique():\n",
    "    T1=event[event[\"code\"]==i]\n",
    "    T1.index=event[event[\"code\"]==i][\"time\"]\n",
    "    T2=T1.resample(\"1d\")[list(event.columns[13:])].sum()\n",
    "    T2[\"code\"]=i\n",
    "    T2[\"公司\"]=event[event[\"code\"]==i].company_name.unique()[0]\n",
    "    T=pd.concat([T,T2])\n",
    "final=pd.concat([t,T.iloc[:,:-2]],axis=1)\n",
    "final.to_csv(\"final.csv\",index=False)"
   ],
   "metadata": {
    "collapsed": false,
    "pycharm": {
     "name": "#%%\n"
    }
   }
  },
  {
   "cell_type": "code",
   "execution_count": null,
   "outputs": [],
   "source": [
    "final"
   ],
   "metadata": {
    "collapsed": false,
    "pycharm": {
     "name": "#%%\n"
    }
   }
  }
 ],
 "metadata": {
  "kernelspec": {
   "name": "pycharm-1dac48b0",
   "language": "python",
   "display_name": "PyCharm (shiyan)"
  },
  "language_info": {
   "codemirror_mode": {
    "name": "ipython",
    "version": 2
   },
   "file_extension": ".py",
   "mimetype": "text/x-python",
   "name": "python",
   "nbconvert_exporter": "python",
   "pygments_lexer": "ipython2",
   "version": "2.7.6"
  }
 },
 "nbformat": 4,
 "nbformat_minor": 0
}