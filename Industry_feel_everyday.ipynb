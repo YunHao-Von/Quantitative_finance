{
 "cells": [
  {
   "cell_type": "code",
   "execution_count": 6,
   "metadata": {
    "collapsed": true
   },
   "outputs": [],
   "source": [
    "import pandas as pd\n",
    "market_name=['NY_EQ', 'QS_EQ', 'NQ_EQ', 'SH_EQ', 'HK_EQ', 'SZ_EQ']#各股市代码\n",
    "data1=pd.read_csv('company_label.csv')\n",
    "data2=pd.read_csv('industry_label.csv')\n",
    "SH_market=data1.loc[data1['sec_code'].str.contains('SH_EQ')]\n",
    "SZ_market=data1.loc[data1['sec_code'].str.contains('SZ_EQ')]\n",
    "data1=pd.concat([SH_market,SZ_market],axis=0)\n",
    "df=pd.merge(data2, data1, on='news_id',how='inner')"
   ]
  },
  {
   "cell_type": "code",
   "execution_count": 11,
   "outputs": [],
   "source": [
    "data1=df\n",
    "data1[\"time\"]=pd.to_datetime(df[\"news_time_x\"])\n",
    "t=pd.DataFrame(columns=[\"pos\",\"neg\",\"neu\",\"industry_code\"])\n",
    "for i in data1[\"industry_code\"].unique():\n",
    "    t1=data1[data1[\"industry_code\"]==i]\n",
    "    t1.index=data1[data1[\"industry_code\"]==i][\"time\"]\n",
    "    t2=t1.resample(\"1d\")[\"pos\",\"neg\",\"neu\"].mean()\n",
    "    t2[\"industry_code\"]=i\n",
    "    t2[\"行业\"]=data1[data1[\"industry_code\"]==i].industry_name.unique()[0]\n",
    "    t=pd.concat([t,t2])\n",
    "t.fillna(0,inplace=True)"
   ],
   "metadata": {
    "collapsed": false,
    "pycharm": {
     "name": "#%%\n"
    }
   }
  },
  {
   "cell_type": "code",
   "execution_count": 12,
   "outputs": [],
   "source": [
    "t['datetime']=t.index\n",
    "t.to_csv(\"Industry_Feel.csv\",index=False)"
   ],
   "metadata": {
    "collapsed": false,
    "pycharm": {
     "name": "#%%\n"
    }
   }
  }
 ],
 "metadata": {
  "kernelspec": {
   "name": "pycharm-1dac48b0",
   "language": "python",
   "display_name": "PyCharm (shiyan)"
  },
  "language_info": {
   "codemirror_mode": {
    "name": "ipython",
    "version": 2
   },
   "file_extension": ".py",
   "mimetype": "text/x-python",
   "name": "python",
   "nbconvert_exporter": "python",
   "pygments_lexer": "ipython2",
   "version": "2.7.6"
  }
 },
 "nbformat": 4,
 "nbformat_minor": 0
}